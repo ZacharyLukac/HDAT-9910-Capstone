{
 "cells": [
  {
   "cell_type": "markdown",
   "id": "6a18f8e8",
   "metadata": {},
   "source": [
    "## HDAT 9910 Capstone\n"
   ]
  },
  {
   "cell_type": "markdown",
   "id": "ebe16c21",
   "metadata": {},
   "source": [
    "Research Question 1: Mortality Prediction in ICU \n",
    "\n",
    "Task: The task is to build a predictive algorithm using the techniques we learned in this course. \n",
    "\n",
    "Objective: To assess the role of machine learning algorithms for predicting mortality by using the MIMIC-III dataset. \n",
    "\n",
    "Question: Is it possible to accurately predict mortality based on data from the first 24 hours in ICU?   \n",
    "\n",
    "Study Population: MIMIC-III dataset "
   ]
  },
  {
   "cell_type": "markdown",
   "id": "649daf4b",
   "metadata": {},
   "source": [
    "#### Load packages"
   ]
  },
  {
   "cell_type": "code",
   "execution_count": 1,
   "id": "463634be",
   "metadata": {},
   "outputs": [],
   "source": [
    "import pandas as pd\n",
    "import numpy as np\n",
    "import matplotlib.pyplot as plt\n",
    "import seaborn as sns"
   ]
  },
  {
   "cell_type": "markdown",
   "id": "11120e1c",
   "metadata": {},
   "source": [
    "#### read CVS's"
   ]
  },
  {
   "cell_type": "code",
   "execution_count": 2,
   "id": "6a4cad92",
   "metadata": {},
   "outputs": [],
   "source": [
    "admissions = pd.read_csv(\"/Users/zacharylukac/Desktop/HDAT-9910-Capstone/mimic_data/admissions.csv\")"
   ]
  },
  {
   "cell_type": "code",
   "execution_count": 3,
   "id": "16560e6e",
   "metadata": {},
   "outputs": [
    {
     "name": "stdout",
     "output_type": "stream",
     "text": [
      "   row_id  subject_id  hadm_id            admittime            dischtime  \\\n",
      "0      21          22   165315  2196-04-09 12:26:00  2196-04-10 15:54:00   \n",
      "1      22          23   152223  2153-09-03 07:15:00  2153-09-08 19:10:00   \n",
      "2      23          23   124321  2157-10-18 19:34:00  2157-10-25 14:00:00   \n",
      "3      24          24   161859  2139-06-06 16:14:00  2139-06-09 12:48:00   \n",
      "4      25          25   129635  2160-11-02 02:06:00  2160-11-05 14:55:00   \n",
      "\n",
      "  deathtime admission_type         admission_location  \\\n",
      "0       NaN      EMERGENCY       EMERGENCY ROOM ADMIT   \n",
      "1       NaN       ELECTIVE  PHYS REFERRAL/NORMAL DELI   \n",
      "2       NaN      EMERGENCY  TRANSFER FROM HOSP/EXTRAM   \n",
      "3       NaN      EMERGENCY  TRANSFER FROM HOSP/EXTRAM   \n",
      "4       NaN      EMERGENCY       EMERGENCY ROOM ADMIT   \n",
      "\n",
      "          discharge_location insurance language           religion  \\\n",
      "0  DISC-TRAN CANCER/CHLDRN H   Private      NaN       UNOBTAINABLE   \n",
      "1           HOME HEALTH CARE  Medicare      NaN           CATHOLIC   \n",
      "2           HOME HEALTH CARE  Medicare     ENGL           CATHOLIC   \n",
      "3                       HOME   Private      NaN  PROTESTANT QUAKER   \n",
      "4                       HOME   Private      NaN       UNOBTAINABLE   \n",
      "\n",
      "  marital_status ethnicity            edregtime            edouttime  \\\n",
      "0        MARRIED     WHITE  2196-04-09 10:06:00  2196-04-09 13:24:00   \n",
      "1        MARRIED     WHITE                  NaN                  NaN   \n",
      "2        MARRIED     WHITE                  NaN                  NaN   \n",
      "3         SINGLE     WHITE                  NaN                  NaN   \n",
      "4        MARRIED     WHITE  2160-11-02 01:01:00  2160-11-02 04:27:00   \n",
      "\n",
      "                                           diagnosis  hospital_expire_flag  \\\n",
      "0                            BENZODIAZEPINE OVERDOSE                     0   \n",
      "1  CORONARY ARTERY DISEASE\\CORONARY ARTERY BYPASS...                     0   \n",
      "2                                         BRAIN MASS                     0   \n",
      "3                     INTERIOR MYOCARDIAL INFARCTION                     0   \n",
      "4                            ACUTE CORONARY SYNDROME                     0   \n",
      "\n",
      "   has_chartevents_data  \n",
      "0                     1  \n",
      "1                     1  \n",
      "2                     1  \n",
      "3                     1  \n",
      "4                     1  \n",
      "<class 'pandas.core.frame.DataFrame'>\n",
      "RangeIndex: 58976 entries, 0 to 58975\n",
      "Data columns (total 19 columns):\n",
      " #   Column                Non-Null Count  Dtype \n",
      "---  ------                --------------  ----- \n",
      " 0   row_id                58976 non-null  int64 \n",
      " 1   subject_id            58976 non-null  int64 \n",
      " 2   hadm_id               58976 non-null  int64 \n",
      " 3   admittime             58976 non-null  object\n",
      " 4   dischtime             58976 non-null  object\n",
      " 5   deathtime             5854 non-null   object\n",
      " 6   admission_type        58976 non-null  object\n",
      " 7   admission_location    58976 non-null  object\n",
      " 8   discharge_location    58976 non-null  object\n",
      " 9   insurance             58976 non-null  object\n",
      " 10  language              33644 non-null  object\n",
      " 11  religion              58518 non-null  object\n",
      " 12  marital_status        48848 non-null  object\n",
      " 13  ethnicity             58976 non-null  object\n",
      " 14  edregtime             30877 non-null  object\n",
      " 15  edouttime             30877 non-null  object\n",
      " 16  diagnosis             58951 non-null  object\n",
      " 17  hospital_expire_flag  58976 non-null  int64 \n",
      " 18  has_chartevents_data  58976 non-null  int64 \n",
      "dtypes: int64(5), object(14)\n",
      "memory usage: 8.5+ MB\n",
      "None\n",
      "             row_id    subject_id        hadm_id  hospital_expire_flag  \\\n",
      "count  58976.000000  58976.000000   58976.000000          58976.000000   \n",
      "mean   29488.500000  33755.583288  149970.809584              0.099261   \n",
      "std    17025.049075  28092.726225   28883.095213              0.299014   \n",
      "min        1.000000      2.000000  100001.000000              0.000000   \n",
      "25%    14744.750000  11993.750000  124952.750000              0.000000   \n",
      "50%    29488.500000  24133.500000  149989.500000              0.000000   \n",
      "75%    44232.250000  53851.500000  174966.500000              0.000000   \n",
      "max    58976.000000  99999.000000  199999.000000              1.000000   \n",
      "\n",
      "       has_chartevents_data  \n",
      "count          58976.000000  \n",
      "mean               0.973006  \n",
      "std                0.162067  \n",
      "min                0.000000  \n",
      "25%                1.000000  \n",
      "50%                1.000000  \n",
      "75%                1.000000  \n",
      "max                1.000000  \n"
     ]
    }
   ],
   "source": [
    "# Display the first few rows of the dataset\n",
    "print(admissions.head())\n",
    "\n",
    "# Get information about the dataset (data types, non-null counts)\n",
    "print(admissions.info())\n",
    "\n",
    "# Descriptive statistics of numerical columns\n",
    "print(admissions.describe())"
   ]
  },
  {
   "cell_type": "code",
   "execution_count": 4,
   "id": "8fea4c3c",
   "metadata": {},
   "outputs": [
    {
     "name": "stdout",
     "output_type": "stream",
     "text": [
      "row_id                      0\n",
      "subject_id                  0\n",
      "hadm_id                     0\n",
      "admittime                   0\n",
      "dischtime                   0\n",
      "deathtime               53122\n",
      "admission_type              0\n",
      "admission_location          0\n",
      "discharge_location          0\n",
      "insurance                   0\n",
      "language                25332\n",
      "religion                  458\n",
      "marital_status          10128\n",
      "ethnicity                   0\n",
      "edregtime               28099\n",
      "edouttime               28099\n",
      "diagnosis                  25\n",
      "hospital_expire_flag        0\n",
      "has_chartevents_data        0\n",
      "dtype: int64\n"
     ]
    }
   ],
   "source": [
    "# Check for missing values\n",
    "print(admissions.isnull().sum())\n",
    "\n",
    "# Handle missing values (if needed)\n",
    "# For example, drop rows with missing values:\n",
    "# df = df.dropna()\n"
   ]
  },
  {
   "cell_type": "code",
   "execution_count": 5,
   "id": "ea7aed51",
   "metadata": {},
   "outputs": [
    {
     "name": "stdout",
     "output_type": "stream",
     "text": [
      "0\n"
     ]
    }
   ],
   "source": [
    "# Check for duplicate rows\n",
    "print(admissions.duplicated().sum())\n",
    "\n",
    "# Remove duplicates\n",
    "# df = df.drop_duplicates()\n"
   ]
  },
  {
   "cell_type": "code",
   "execution_count": 7,
   "id": "3204be42",
   "metadata": {},
   "outputs": [
    {
     "data": {
      "image/png": "[encoded data removed]",
      "text/plain": [
       "<Figure size 432x288 with 1 Axes>"
      ]
     },
     "metadata": {
      "needs_background": "light"
     },
     "output_type": "display_data"
    }
   ],
   "source": [
    "\n",
    "# Countplot for categorical variables\n",
    "sns.countplot(x='hospital_expire_flag', data=admissions)\n",
    "plt.show()\n"
   ]
  },
  {
   "cell_type": "code",
   "execution_count": null,
   "id": "e281ca9a",
   "metadata": {},
   "outputs": [],
   "source": [
    "antibiotics = pd.read_csv(\"/Users/zacharylukac/Desktop/HDAT-9910-Capstone/mimic_data/antibiotics.csv\")"
   ]
  },
  {
   "cell_type": "code",
   "execution_count": null,
   "id": "ff9a24a7",
   "metadata": {},
   "outputs": [],
   "source": [
    "antibiotics.shape[0]"
   ]
  },
  {
   "cell_type": "code",
   "execution_count": null,
   "id": "30a4982d",
   "metadata": {},
   "outputs": [],
   "source": [
    "bloodculture = pd.read_csv(\"/Users/zacharylukac/Desktop/HDAT-9910-Capstone/mimic_data/bloodculture.csv\")"
   ]
  },
  {
   "cell_type": "code",
   "execution_count": null,
   "id": "2470b3d2",
   "metadata": {},
   "outputs": [],
   "source": [
    "bloodculture"
   ]
  },
  {
   "cell_type": "code",
   "execution_count": null,
   "id": "92aaee91",
   "metadata": {},
   "outputs": [],
   "source": [
    "gcs_hourly = pd.read_csv(\"/Users/zacharylukac/Desktop/HDAT-9910-Capstone/mimic_data/gcs_hourly.csv\")"
   ]
  },
  {
   "cell_type": "code",
   "execution_count": null,
   "id": "920ac7fc",
   "metadata": {},
   "outputs": [],
   "source": [
    "gcs_hourly"
   ]
  },
  {
   "cell_type": "code",
   "execution_count": null,
   "id": "ab4bfc5b",
   "metadata": {},
   "outputs": [],
   "source": []
  }
 ],
 "metadata": {
  "kernelspec": {
   "display_name": "Python 3",
   "language": "python",
   "name": "python3"
  },
  "language_info": {
   "codemirror_mode": {
    "name": "ipython",
    "version": 3
   },
   "file_extension": ".py",
   "mimetype": "text/x-python",
   "name": "python",
   "nbconvert_exporter": "python",
   "pygments_lexer": "ipython3",
   "version": "3.8.8"
  },
  "toc": {
   "base_numbering": 1,
   "nav_menu": {},
   "number_sections": false,
   "sideBar": true,
   "skip_h1_title": false,
   "title_cell": "Table of Contents",
   "title_sidebar": "Contents",
   "toc_cell": false,
   "toc_position": {
    "height": "calc(100% - 180px)",
    "left": "10px",
    "top": "150px",
    "width": "336px"
   },
   "toc_section_display": true,
   "toc_window_display": false
  }
 },
 "nbformat": 4,
 "nbformat_minor": 5
}
