{
 "cells": [
  {
   "cell_type": "markdown",
   "id": "63f82b05",
   "metadata": {},
   "source": [
    "## HDAT 9910 Capstone\n"
   ]
  },
  {
   "cell_type": "markdown",
   "id": "a388feac",
   "metadata": {},
   "source": [
    "Research Question 2: Weekend Effect in ICU \n",
    "\n",
    "Task: The task is to investigate whether admission to ICU at the weekend increases the risk of ICU mortality \n",
    "\n",
    "Objective: To develop a statistical model to estimate the effect of weekend admission to ICU on the risk of mortality. \n",
    "\n",
    "Question: Does admission to ICU over the weekend increase the risk of mortality? \n",
    "\n",
    "Study Population: MIMIC-III dataset"
   ]
  },
  {
   "cell_type": "markdown",
   "id": "22080f76",
   "metadata": {},
   "source": [
    "#### Load packages\n"
   ]
  },
  {
   "cell_type": "code",
   "execution_count": 1,
   "id": "dda489c1",
   "metadata": {},
   "outputs": [],
   "source": [
    "import numpy as np\n",
    "import pandas as pd\n",
    "import matplotlib.pyplot as plt\n",
    "import warnings\n",
    "import os\n",
    "import concurrent.futures\n",
    "warnings.filterwarnings(\"ignore\")\n",
    "pd.set_option('display.max_columns', None)\n"
   ]
  },
  {
   "cell_type": "markdown",
   "id": "a8857dac",
   "metadata": {},
   "source": [
    "#### Load in the preprocessed MIMIC-III Dataset"
   ]
  },
  {
   "cell_type": "code",
   "execution_count": 40,
   "id": "c8bcfb15",
   "metadata": {},
   "outputs": [],
   "source": [
    "df = pd.read_csv('/Users\\lukac\\OneDrive\\Desktop\\HDAT-9910-Capstone/df_weekend_r.csv')"
   ]
  },
  {
   "cell_type": "code",
   "execution_count": 41,
   "id": "3f6346c7",
   "metadata": {},
   "outputs": [
    {
     "name": "stdout",
     "output_type": "stream",
     "text": [
      "Number of ICU stays: 61532\n",
      "Number of survivors: 37341\n",
      "Number of non-survivors: 24191\n",
      "Mortality: 39.3%\n"
     ]
    }
   ],
   "source": [
    "# Check the balance of the target variable\n",
    "total_icu_stays = df['icustay_id'].nunique()\n",
    "survivors = df.loc[df['mortality'] == 0, 'icustay_id'].nunique()\n",
    "non_survivors = df.loc[df['mortality'] == 1, 'icustay_id'].nunique()\n",
    "\n",
    "print(f\"Number of ICU stays: {total_icu_stays}\")\n",
    "print(f\"Number of survivors: {survivors}\")\n",
    "print(f\"Number of non-survivors: {non_survivors}\")\n",
    "\n",
    "mortality_rate = (non_survivors / total_icu_stays) * 100\n",
    "print(f\"Mortality: {mortality_rate:.1f}%\")"
   ]
  },
  {
   "cell_type": "code",
   "execution_count": 42,
   "id": "fd36420f",
   "metadata": {},
   "outputs": [],
   "source": [
    "# Drop rows with any missing values\n",
    "df.dropna(inplace=True)"
   ]
  },
  {
   "cell_type": "code",
   "execution_count": 56,
   "id": "a3b1e8a7",
   "metadata": {},
   "outputs": [
    {
     "data": {
      "text/plain": [
       "Index(['icustay_id', 'admission_type', 'admission_location', 'insurance',\n",
       "       'diagnosis', 'gender', 'mortality', 'spo2_mean', 'spo2_min', 'spo2_max',\n",
       "       'temperature_mean', 'temperature_min', 'temperature_max',\n",
       "       'resprate_mean', 'resprate_min', 'resprate_max', 'heartrate_mean',\n",
       "       'heartrate_min', 'heartrate_max', 'sysbp_mean', 'sysbp_min',\n",
       "       'sysbp_max', 'diasbp_mean', 'diasbp_min', 'diasbp_max', 'glucose_mean',\n",
       "       'glucose_min', 'glucose_max', 'meanarterialpressure_mean',\n",
       "       'meanarterialpressure_min', 'meanarterialpressure_max',\n",
       "       'neutrophil_mean', 'neutrophil_min', 'neutrophil_max',\n",
       "       'creactiveprotein_mean', 'creactiveprotein_min', 'creactiveprotein_max',\n",
       "       'whitebloodcell_mean', 'whitebloodcell_min', 'whitebloodcell_max',\n",
       "       'partialpressureo2_mean', 'partialpressureo2_min',\n",
       "       'partialpressureo2_max', 'bicarbonate_mean', 'bicarbonate_min',\n",
       "       'bicarbonate_max', 'lactate_mean', 'lactate_min', 'lactate_max',\n",
       "       'troponin_mean', 'troponin_min', 'troponin_max',\n",
       "       'bloodureanitrogen_mean', 'bloodureanitrogen_min',\n",
       "       'bloodureanitrogen_max', 'creatinine_mean', 'creatinine_min',\n",
       "       'creatinine_max', 'hemoglobin_mean', 'hemoglobin_min', 'hemoglobin_max',\n",
       "       'intnormalisedratio_mean', 'intnormalisedratio_min',\n",
       "       'intnormalisedratio_max', 'platelets_mean', 'platelets_min',\n",
       "       'platelets_max', 'chloride_mean', 'chloride_min', 'chloride_max',\n",
       "       'sodium_mean', 'sodium_min', 'sodium_max', 'hematocrit_mean',\n",
       "       'hematocrit_min', 'hematocrit_max', 'hr_mean', 'hr_min', 'hr_max',\n",
       "       'gcs_mean', 'gcs_min', 'gcs_max', 'gcseyes_mean', 'gcseyes_min',\n",
       "       'gcseyes_max', 'gcsmotor_mean', 'gcsmotor_min', 'gcsmotor_max',\n",
       "       'gcsverbal_mean', 'gcsverbal_min', 'gcsverbal_max',\n",
       "       'endotrachflag_mean', 'endotrachflag_min', 'endotrachflag_max', 'age',\n",
       "       'weekend_admission'],\n",
       "      dtype='object')"
      ]
     },
     "execution_count": 56,
     "metadata": {},
     "output_type": "execute_result"
    }
   ],
   "source": [
    "df.columns"
   ]
  },
  {
   "cell_type": "markdown",
   "id": "524caa82",
   "metadata": {},
   "source": [
    "### Model selection and training"
   ]
  },
  {
   "cell_type": "code",
   "execution_count": 59,
   "id": "38c7e143",
   "metadata": {},
   "outputs": [
    {
     "name": "stdout",
     "output_type": "stream",
     "text": [
      "Optimization terminated successfully.\n",
      "         Current function value: 0.687042\n",
      "         Iterations 4\n",
      "                           Logit Regression Results                           \n",
      "==============================================================================\n",
      "Dep. Variable:              mortality   No. Observations:                51367\n",
      "Model:                          Logit   Df Residuals:                    51365\n",
      "Method:                           MLE   Df Model:                            1\n",
      "Date:                Tue, 02 Apr 2024   Pseudo R-squ.:               0.0005658\n",
      "Time:                        16:48:04   Log-Likelihood:                -35291.\n",
      "converged:                       True   LL-Null:                       -35311.\n",
      "Covariance Type:            nonrobust   LLR p-value:                 2.597e-10\n",
      "=====================================================================================\n",
      "                        coef    std err          z      P>|z|      [0.025      0.975]\n",
      "-------------------------------------------------------------------------------------\n",
      "const                -0.2440      0.010    -24.299      0.000      -0.264      -0.224\n",
      "weekend_admission     0.1360      0.021      6.326      0.000       0.094       0.178\n",
      "=====================================================================================\n"
     ]
    }
   ],
   "source": [
    "import statsmodels.api as sm\n",
    "\n",
    "X = df[['weekend_admission']]  # Predictor variables; add more as needed\n",
    "y = df['mortality']  # Outcome variable\n",
    "\n",
    "# Add a constant to X for the intercept\n",
    "X = sm.add_constant(X)\n",
    "\n",
    "# Fit the logistic regression model\n",
    "model = sm.Logit(y, X).fit()\n",
    "\n",
    "# Print the summary of the model to see the results\n",
    "print(model.summary())\n"
   ]
  },
  {
   "cell_type": "code",
   "execution_count": 49,
   "id": "3ef2da43",
   "metadata": {},
   "outputs": [
    {
     "name": "stdout",
     "output_type": "stream",
     "text": [
      "Odds Ratio for weekend admission: 1.1456788245345904\n"
     ]
    },
    {
     "data": {
      "text/plain": [
       "''"
      ]
     },
     "execution_count": 49,
     "metadata": {},
     "output_type": "execute_result"
    }
   ],
   "source": [
    "import numpy as np\n",
    "\n",
    "# Calculating the Odds Ratio for weekend admission\n",
    "odds_ratio = np.exp(model.params['weekend_admission'])\n",
    "print(f\"Odds Ratio for weekend admission: {odds_ratio}\")\n",
    "\"\""
   ]
  },
  {
   "cell_type": "code",
   "execution_count": 50,
   "id": "44a18a8a",
   "metadata": {},
   "outputs": [],
   "source": [
    "from sklearn.model_selection import train_test_split\n",
    "from sklearn.linear_model import LogisticRegression\n",
    "from sklearn.metrics import accuracy_score, roc_auc_score\n",
    "\n",
    "X = df[['weekend_admission']]  # Features DataFrame\n",
    "y = df['mortality']  # Target series\n",
    "\n",
    "# Split the data into training and testing sets\n",
    "X_train, X_test, y_train, y_test = train_test_split(X, y, test_size=0.2, random_state=42)\n"
   ]
  },
  {
   "cell_type": "code",
   "execution_count": 51,
   "id": "9d01054e",
   "metadata": {},
   "outputs": [
    {
     "data": {
      "text/plain": [
       "LogisticRegression()"
      ]
     },
     "execution_count": 51,
     "metadata": {},
     "output_type": "execute_result"
    }
   ],
   "source": [
    "# Initialise the logistic regression model\n",
    "model = LogisticRegression()\n",
    "\n",
    "# Fit the model\n",
    "model.fit(X_train, y_train)"
   ]
  },
  {
   "cell_type": "code",
   "execution_count": 52,
   "id": "ecacc393",
   "metadata": {},
   "outputs": [
    {
     "name": "stdout",
     "output_type": "stream",
     "text": [
      "Accuracy: 0.55\n",
      "ROC-AUC Score: 0.52\n"
     ]
    }
   ],
   "source": [
    "# Make predictions\n",
    "y_pred = model.predict(X_test)\n",
    "y_proba = model.predict_proba(X_test)[:, 1]  # Probabilities for ROC-AUC\n",
    "\n",
    "# Evaluate the model\n",
    "accuracy = accuracy_score(y_test, y_pred)\n",
    "roc_auc = roc_auc_score(y_test, y_proba)\n",
    "\n",
    "print(f\"Accuracy: {accuracy:.2f}\")\n",
    "print(f\"ROC-AUC Score: {roc_auc:.2f}\")\n"
   ]
  },
  {
   "cell_type": "code",
   "execution_count": 53,
   "id": "6e12a93c",
   "metadata": {},
   "outputs": [
    {
     "name": "stdout",
     "output_type": "stream",
     "text": [
      "Coefficient for weekend admission: 0.1235\n"
     ]
    }
   ],
   "source": [
    "# Getting the coefficient for weekend_admission\n",
    "weekend_coefficient = model.coef_[0][0]\n",
    "print(f\"Coefficient for weekend admission: {weekend_coefficient:.4f}\")\n"
   ]
  },
  {
   "cell_type": "code",
   "execution_count": null,
   "id": "b04109b3",
   "metadata": {},
   "outputs": [],
   "source": []
  }
 ],
 "metadata": {
  "kernelspec": {
   "display_name": "Python 3 (ipykernel)",
   "language": "python",
   "name": "python3"
  },
  "language_info": {
   "codemirror_mode": {
    "name": "ipython",
    "version": 3
   },
   "file_extension": ".py",
   "mimetype": "text/x-python",
   "name": "python",
   "nbconvert_exporter": "python",
   "pygments_lexer": "ipython3",
   "version": "3.9.12"
  }
 },
 "nbformat": 4,
 "nbformat_minor": 5
}
