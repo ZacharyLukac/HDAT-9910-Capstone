{
 "cells": [
  {
   "cell_type": "markdown",
   "id": "fa1e2a74",
   "metadata": {},
   "source": [
    "## HDAT 9910 Capstone\n"
   ]
  },
  {
   "cell_type": "markdown",
   "id": "559c88e3",
   "metadata": {},
   "source": [
    "Research Question 1: Mortality Prediction in ICU \n",
    "\n",
    "Task: The task is to build a predictive algorithm using the techniques we learned in this course. \n",
    "\n",
    "Objective: To assess the role of machine learning algorithms for predicting mortality by using the MIMIC-III dataset. \n",
    "\n",
    "Question: Is it possible to accurately predict mortality based on data from the first 24 hours in ICU?   \n",
    "\n",
    "Study Population: MIMIC-III dataset "
   ]
  },
  {
   "cell_type": "markdown",
   "id": "c35f1030",
   "metadata": {},
   "source": [
    "#### Load packages\n"
   ]
  },
  {
   "cell_type": "code",
   "execution_count": null,
   "id": "9d49a298",
   "metadata": {},
   "outputs": [],
   "source": [
    "import numpy as np\n",
    "import pandas as pd\n",
    "import warnings\n",
    "import os\n",
    "import concurrent.futures\n",
    "import seaborn as sns\n",
    "import matplotlib.pyplot as plt\n",
    "warnings.filterwarnings(\"ignore\")\n",
    "pd.set_option('display.max_columns', None)\n"
   ]
  },
  {
   "cell_type": "markdown",
   "id": "2efa5fff",
   "metadata": {},
   "source": [
    "#### Load in the preprocessed MIMIC-III Dataset"
   ]
  },
  {
   "cell_type": "code",
   "execution_count": 2,
   "id": "a27dd68f",
   "metadata": {},
   "outputs": [],
   "source": [
    "df = pd.read_csv('/Users\\lukac\\OneDrive\\Desktop\\HDAT-9910-Capstone/df_24Hrs.csv')"
   ]
  },
  {
   "cell_type": "code",
   "execution_count": 3,
   "id": "ced5a2b0",
   "metadata": {},
   "outputs": [
    {
     "name": "stdout",
     "output_type": "stream",
     "text": [
      "Number of ICU stays: 61533\n",
      "Number of survivors: 37342\n",
      "Number of non-survivors: 24192\n",
      "Mortality: 39.3%\n"
     ]
    }
   ],
   "source": [
    "# Check the balance of the target variable\n",
    "total_icu_stays = df['icustay_id'].nunique()\n",
    "survivors = df.loc[df['mortality'] == 0, 'icustay_id'].nunique()\n",
    "non_survivors = df.loc[df['mortality'] == 1, 'icustay_id'].nunique()\n",
    "\n",
    "print(f\"Number of ICU stays: {total_icu_stays}\")\n",
    "print(f\"Number of survivors: {survivors}\")\n",
    "print(f\"Number of non-survivors: {non_survivors}\")\n",
    "\n",
    "mortality_rate = (non_survivors / total_icu_stays) * 100\n",
    "print(f\"Mortality: {mortality_rate:.1f}%\")"
   ]
  },
  {
   "cell_type": "code",
   "execution_count": 4,
   "id": "a3b5f487",
   "metadata": {},
   "outputs": [],
   "source": [
    "# Drop rows with any missing values\n",
    "df.dropna(inplace=True)"
   ]
  },
  {
   "cell_type": "markdown",
   "id": "517e1cc5",
   "metadata": {},
   "source": [
    "### Model selection and training"
   ]
  },
  {
   "cell_type": "code",
   "execution_count": 5,
   "id": "c2a645fc",
   "metadata": {
    "scrolled": false
   },
   "outputs": [],
   "source": [
    "from sklearn.model_selection import train_test_split\n",
    "\n",
    "#Split the data into features and target variable\n",
    "X = df.drop('mortality', axis=1)\n",
    "y = df['mortality']\n",
    "\n",
    "# Split the dataset into training and testing sets\n",
    "X_train, X_test, y_train, y_test = train_test_split(X, y, test_size=0.2, random_state=42)\n"
   ]
  },
  {
   "cell_type": "code",
   "execution_count": 6,
   "id": "e55505c0",
   "metadata": {},
   "outputs": [],
   "source": [
    "from sklearn.preprocessing import StandardScaler\n",
    "\n",
    "# Feature scaling\n",
    "scaler = StandardScaler()\n",
    "X_train_scaled = scaler.fit_transform(X_train)\n",
    "X_test_scaled = scaler.transform(X_test)\n"
   ]
  },
  {
   "cell_type": "markdown",
   "id": "91edd58c",
   "metadata": {},
   "source": [
    "### Logistic Regression"
   ]
  },
  {
   "cell_type": "code",
   "execution_count": 8,
   "id": "d4f26c7a",
   "metadata": {},
   "outputs": [],
   "source": [
    "from sklearn.model_selection import GridSearchCV\n",
    "from sklearn.linear_model import LogisticRegression\n",
    "\n",
    "# Hyperparameter tuning with GridSearchCV\n",
    "parameters = {'C': [0.001, 0.01, 0.1, 1, 10, 100]}\n",
    "grid_search = GridSearchCV(LogisticRegression(max_iter=1000), parameters, cv=5)\n",
    "grid_search.fit(X_train_scaled, y_train)\n",
    "\n",
    "best_model = grid_search.best_estimator_"
   ]
  },
  {
   "cell_type": "code",
   "execution_count": 9,
   "id": "9ba2693e",
   "metadata": {},
   "outputs": [
    {
     "name": "stdout",
     "output_type": "stream",
     "text": [
      "Accuracy: 0.72\n",
      "Precision: 0.70\n",
      "Recall: 0.66\n",
      "ROC-AUC: 0.80\n"
     ]
    }
   ],
   "source": [
    "from sklearn.metrics import accuracy_score, precision_score, recall_score, roc_auc_score\n",
    "\n",
    "# Making predictions with the best model\n",
    "y_pred = best_model.predict(X_test_scaled)\n",
    "y_proba = best_model.predict_proba(X_test_scaled)[:, 1]\n",
    "\n",
    "# Evaluation metrics\n",
    "print(f\"Accuracy: {accuracy_score(y_test, y_pred):.2f}\")\n",
    "print(f\"Precision: {precision_score(y_test, y_pred):.2f}\")\n",
    "print(f\"Recall: {recall_score(y_test, y_pred):.2f}\")\n",
    "print(f\"ROC-AUC: {roc_auc_score(y_test, y_proba):.2f}\")\n"
   ]
  },
  {
   "cell_type": "code",
   "execution_count": 13,
   "id": "13c35f40",
   "metadata": {},
   "outputs": [
    {
     "data": {
      "image/png": "[encoded data removed]",
      "text/plain": [
       "<Figure size 432x288 with 2 Axes>"
      ]
     },
     "metadata": {
      "needs_background": "light"
     },
     "output_type": "display_data"
    }
   ],
   "source": [
    "from sklearn.metrics import confusion_matrix\n",
    "\n",
    "conf_mat = confusion_matrix(y_test, y_pred)\n",
    "sns.heatmap(conf_mat, annot=True, fmt=\"d\", cmap='Blues')\n",
    "plt.xlabel('Predicted')\n",
    "plt.ylabel('True')\n",
    "plt.title('Confusion Matrix')\n",
    "plt.show()"
   ]
  },
  {
   "cell_type": "markdown",
   "id": "cde9c092",
   "metadata": {},
   "source": [
    "### Random Forest"
   ]
  },
  {
   "cell_type": "code",
   "execution_count": null,
   "id": "08902d29",
   "metadata": {},
   "outputs": [],
   "source": [
    "from sklearn.ensemble import RandomForestClassifier\n",
    "\n",
    "# Fit the model\n",
    "forest = RandomForestClassifier()\n",
    "forest.fit(X_train_scaled, y_train)\n",
    "\n",
    "# Hyperperameter tuning\n",
    "# Get important features\n",
    "importances = forest.feature_importances_\n",
    "\n",
    "# Select features based on importance\n",
    "indices = np.argsort(importances)[::-1]\n",
    "\n",
    "# Select a subset of the most important features\n",
    "X_train_forest = X_train_scaled[:, indices[:80]]\n",
    "X_test_forest = X_test_scaled[:, indices[:80]]\n",
    "\n",
    "# Train a new model on the reduced set of features\n",
    "forest.fit(X_train_forest, y_train)"
   ]
  },
  {
   "cell_type": "code",
   "execution_count": null,
   "id": "af1a14d6",
   "metadata": {},
   "outputs": [],
   "source": [
    "# Making predictions\n",
    "y_pred = forest.predict(X_test_forest)\n",
    "y_proba = forest.predict_proba(X_test_forest)[:, 1] \n",
    "\n",
    "# Calculate metrics\n",
    "accuracy = accuracy_score(y_test, y_pred)\n",
    "precision = precision_score(y_test, y_pred)\n",
    "recall = recall_score(y_test, y_pred)\n",
    "roc_auc = roc_auc_score(y_test, y_proba)\n",
    "\n",
    "# Print out the metrics\n",
    "print(f\"Accuracy: {accuracy:.2f}\")\n",
    "print(f\"Precision: {precision:.2f}\")\n",
    "print(f\"Recall: {recall:.2f}\")\n",
    "print(f\"ROC-AUC Score: {roc_auc:.2f}\")\n"
   ]
  },
  {
   "cell_type": "code",
   "execution_count": 20,
   "id": "6799aac9",
   "metadata": {},
   "outputs": [
    {
     "data": {
      "image/png": "[encoded data removed]",
      "text/plain": [
       "<Figure size 432x288 with 2 Axes>"
      ]
     },
     "metadata": {
      "needs_background": "light"
     },
     "output_type": "display_data"
    }
   ],
   "source": [
    "from sklearn.metrics import confusion_matrix\n",
    "import seaborn as sns\n",
    "import matplotlib.pyplot as plt\n",
    "\n",
    "# Display a confusion matrix\n",
    "conf_mat = confusion_matrix(y_test, y_pred)\n",
    "sns.heatmap(conf_mat, annot=True, fmt=\"d\", cmap='Blues')\n",
    "plt.xlabel('Predicted')\n",
    "plt.ylabel('True')\n",
    "plt.title('Confusion Matrix')\n",
    "plt.show()"
   ]
  },
  {
   "cell_type": "markdown",
   "id": "03a29eff",
   "metadata": {},
   "source": [
    "### Gradient boosting machine"
   ]
  },
  {
   "cell_type": "code",
   "execution_count": null,
   "id": "62fb5f4a",
   "metadata": {},
   "outputs": [],
   "source": [
    "!pip install xgboost\n"
   ]
  },
  {
   "cell_type": "code",
   "execution_count": null,
   "id": "62637313",
   "metadata": {},
   "outputs": [],
   "source": [
    "from xgboost import XGBClassifier\n",
    "\n",
    "# Initialise the model\n",
    "xgb_model = XGBClassifier(use_label_encoder=False, eval_metric='logloss')\n",
    "\n",
    "# Train the model\n",
    "xgb_model.fit(X_train_scaled, y_train)\n",
    "\n",
    "# Make predictions\n",
    "y_pred_xgb = xgb_model.predict(X_test_scaled)\n",
    "y_proba_xgb = xgb_model.predict_proba(X_test_scaled)[:, 1]\n",
    "\n",
    "# Evaluate the model\n",
    "xgb_roc_auc = roc_auc_score(y_test, y_proba_xgb)\n",
    "\n",
    "# Print out the metrics\n",
    "print(f\"ROC-AUC Score: {roc_auc:.2f}\")\n"
   ]
  },
  {
   "cell_type": "code",
   "execution_count": null,
   "id": "cca5a8de",
   "metadata": {},
   "outputs": [],
   "source": []
  },
  {
   "cell_type": "markdown",
   "id": "dcf86fbd",
   "metadata": {},
   "source": [
    "### Neural networks"
   ]
  },
  {
   "cell_type": "code",
   "execution_count": 21,
   "id": "6f2ac38b",
   "metadata": {
    "scrolled": false
   },
   "outputs": [
    {
     "name": "stdout",
     "output_type": "stream",
     "text": [
      "Epoch 1/10\n",
      "1028/1028 [==============================] - 4s 2ms/step - loss: 0.5575 - auc: 0.7872 - val_loss: 0.5392 - val_auc: 0.8019\n",
      "Epoch 2/10\n",
      "1028/1028 [==============================] - 3s 3ms/step - loss: 0.5321 - auc: 0.8089 - val_loss: 0.5289 - val_auc: 0.8082\n",
      "Epoch 3/10\n",
      "1028/1028 [==============================] - 2s 2ms/step - loss: 0.5197 - auc: 0.8177 - val_loss: 0.5271 - val_auc: 0.8107\n",
      "Epoch 4/10\n",
      "1028/1028 [==============================] - 2s 2ms/step - loss: 0.5113 - auc: 0.8246 - val_loss: 0.5314 - val_auc: 0.8103\n",
      "Epoch 5/10\n",
      "1028/1028 [==============================] - 2s 2ms/step - loss: 0.5042 - auc: 0.8297 - val_loss: 0.5324 - val_auc: 0.8120\n",
      "Epoch 6/10\n",
      "1028/1028 [==============================] - 2s 2ms/step - loss: 0.4970 - auc: 0.8354 - val_loss: 0.5302 - val_auc: 0.8117\n",
      "Epoch 7/10\n",
      "1028/1028 [==============================] - 3s 3ms/step - loss: 0.4900 - auc: 0.8400 - val_loss: 0.5345 - val_auc: 0.8088\n",
      "Epoch 8/10\n",
      "1028/1028 [==============================] - 3s 3ms/step - loss: 0.4834 - auc: 0.8457 - val_loss: 0.5356 - val_auc: 0.8082\n",
      "Neural Network ROC-AUC Score: 0.81\n"
     ]
    }
   ],
   "source": [
    "from tensorflow.keras.models import Sequential\n",
    "from tensorflow.keras.layers import Dense\n",
    "\n",
    "# Initialise the model\n",
    "nn_model = Sequential([\n",
    "    Dense(128, activation='relu', input_shape=(X_train_scaled.shape[1],)),\n",
    "    Dense(64, activation='relu'),\n",
    "    Dense(1, activation='sigmoid')\n",
    "])\n",
    "\n",
    "# Compile the model\n",
    "nn_model.compile(optimizer='adam', loss='binary_crossentropy', metrics=['AUC'])\n",
    "\n",
    "from tensorflow.keras.callbacks import EarlyStopping\n",
    "# Hyperperameter tuning\n",
    "early_stopping = EarlyStopping(monitor='val_auc', patience=3, mode='max', restore_best_weights=True)\n",
    "nn_model.fit(X_train_scaled, y_train, epochs=10, batch_size=32, validation_split=0.2, callbacks=[early_stopping])\n",
    "\n",
    "# Evaluate the model\n",
    "_, roc_auc_nn = nn_model.evaluate(X_test_scaled, y_test, verbose=0)\n",
    "print(f\"Neural Network ROC-AUC Score: {roc_auc_nn:.2f}\")"
   ]
  },
  {
   "cell_type": "code",
   "execution_count": null,
   "id": "f4dba005",
   "metadata": {},
   "outputs": [],
   "source": []
  }
 ],
 "metadata": {
  "kernelspec": {
   "display_name": "Python 3 (ipykernel)",
   "language": "python",
   "name": "python3"
  },
  "language_info": {
   "codemirror_mode": {
    "name": "ipython",
    "version": 3
   },
   "file_extension": ".py",
   "mimetype": "text/x-python",
   "name": "python",
   "nbconvert_exporter": "python",
   "pygments_lexer": "ipython3",
   "version": "3.9.12"
  }
 },
 "nbformat": 4,
 "nbformat_minor": 5
}
